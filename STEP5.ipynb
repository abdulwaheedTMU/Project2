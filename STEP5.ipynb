import numpy as np
from tensorflow.keras.utils import load_img, img_to_array
from IPython.display import Image, display
from tensorflow.keras.models import load_model

# Define test image paths and labels
test_images = [
    {'path': '/content/drive/MyDrive/Project 2 Data/Data/test/crack/test_crack.jpg', 'label': 'Crack'},
    {'path': '/content/drive/MyDrive/Project 2 Data/Data/test/missing-head/test_missinghead.jpg', 'label': 'Missing Head'},
    {'path': '/content/drive/MyDrive/Project 2 Data/Data/test/paint-off/test_paintoff.jpg', 'label': 'Paint-Off'}
]

# Class labels
class_labels = ['crack', 'missing-head', 'paint-off']

model = load_model("trained_model.h5")

# Preprocess and predict for each test image
for i, test_img in enumerate(test_images):
    # Load and preprocess image
    img = load_img(test_img['path'], target_size=(IMG_HEIGHT, IMG_WIDTH))
    img_array = img_to_array(img) / 255.0  # Normalize
    img_array = np.expand_dims(img_array, axis=0)  # Add batch dimension

    # Make prediction
    predictions = model.predict(img_array)
    predicted_class = np.argmax(predictions, axis=1)[0]
    confidence = predictions[0][predicted_class] * 100
    predicted_label = class_labels[predicted_class]

    # Display prediction results
    plt.figure(figsize=(5, 5))
    plt.imshow(img)
    plt.axis('off')
    plt.title(f"Actual: {test_img['label']}\nPredicted: {predicted_label}\nConfidence: {confidence:.2f}%")
    plt.show()

